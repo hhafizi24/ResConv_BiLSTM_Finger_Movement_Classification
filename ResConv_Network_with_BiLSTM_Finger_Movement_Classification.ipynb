{
  "cells": [
    {
      "cell_type": "code",
      "execution_count": 1,
      "metadata": {
        "colab": {
          "base_uri": "https://localhost:8080/"
        },
        "id": "uwHkNDot3yNZ",
        "outputId": "77d9cb07-6e46-4fb3-fbba-6598b7288ae8"
      },
      "outputs": [
        {
          "output_type": "stream",
          "name": "stdout",
          "text": [
            "Mounted at /content/drive\n"
          ]
        }
      ],
      "source": [
        "import numpy as np\n",
        "import matplotlib.pyplot as plt\n",
        "import matplotlib.colors as mcolors\n",
        "import seaborn as sns\n",
        "import pandas as pd\n",
        "\n",
        "import scipy\n",
        "from scipy import signal\n",
        "from scipy.io import loadmat\n",
        "from scipy import stats\n",
        "\n",
        "from sklearn.preprocessing import StandardScaler\n",
        "from sklearn.svm import SVC\n",
        "from sklearn.model_selection import train_test_split\n",
        "from sklearn.metrics import accuracy_score, precision_score, recall_score, f1_score\n",
        "\n",
        "import tensorflow as tf\n",
        "from tensorflow.keras.models import Sequential\n",
        "from tensorflow.keras import Model\n",
        "from tensorflow.keras.layers import Input,Dense,Reshape,Dropout,Normalization,BatchNormalization,LayerNormalization,GroupNormalization,Add\n",
        "from tensorflow.keras.layers import LSTM,GRU,Bidirectional\n",
        "from tensorflow.keras.layers import Conv2D,DepthwiseConv2D,SeparableConvolution2D,MaxPooling2D,AveragePooling2D,Flatten\n",
        "from tensorflow.keras.losses import SparseCategoricalCrossentropy\n",
        "from tensorflow.keras.optimizers import Adam"
      ]
    },
    {
      "cell_type": "markdown",
      "metadata": {
        "id": "LAuNu7L0uHNj"
      },
      "source": [
        "### **Load and Preprocess Data**"
      ]
    },
    {
      "cell_type": "code",
      "execution_count": 2,
      "metadata": {
        "colab": {
          "base_uri": "https://localhost:8080/"
        },
        "id": "iFArfFznxb97",
        "outputId": "974f67ae-7b95-4550-f698-c9e7b4cdd18c"
      },
      "outputs": [
        {
          "output_type": "stream",
          "name": "stdout",
          "text": [
            "Top Level Keys: dict_keys(['theta', 'alpha', 'beta', 'gamma', 'stim'])\n",
            "Second Level Keys: dict_keys(['wc', 'cc', 'jp'])\n",
            "Example Patient Data Size: (14, 610040)\n"
          ]
        }
      ],
      "source": [
        "# Define filter parameters for different frequency bands\n",
        "filters = {\n",
        "    'theta': (4, 8, 751),\n",
        "    'alpha': (8, 12, 375),\n",
        "    'beta': (12, 30, 251),\n",
        "    'gamma': (30, 50, 101)\n",
        "}\n",
        "# Set sampling frequency\n",
        "fs = 1000\n",
        "\n",
        "def load_and_filter_data(patient_id, filter):\n",
        "    \"\"\"\n",
        "    Load patient data and apply bandpass filters\n",
        "\n",
        "    Parameters:\n",
        "        patient_id (str): Identifier for the patient data file\n",
        "        filter (dict): Dictionary with frequency bands and filter parameters\n",
        "\n",
        "    Returns:\n",
        "        dict: Filtered data by frequency band for a specific patient\n",
        "    \"\"\"\n",
        "\n",
        "    fingerflex = loadmat(f'.../{patient_id}_fingerflex.mat')\n",
        "    stim = loadmat(f'.../{patient_id}_stim.mat')\n",
        "\n",
        "    elec_regions = fingerflex['elec_regions'] + 1\n",
        "    data_full = fingerflex['data'].T\n",
        "    stim = stim['stim'].squeeze()\n",
        "\n",
        "    filtered_data = {}\n",
        "    for band, (low, high, numtaps) in filter.items():\n",
        "        filt_coef = signal.firwin(numtaps, cutoff=(low, high), fs=fs, pass_zero=False)\n",
        "        filtered = np.array([np.convolve(ch, filt_coef, mode='same') for ch in data_full[elec_regions[:, 0] == 1]])\n",
        "        filtered_data[band] = filtered\n",
        "    filtered_data['stim'] = stim\n",
        "    return filtered_data\n",
        "\n",
        "# Initialize data dictionary\n",
        "data = {band: {} for band in filters.keys()}\n",
        "data['stim'] = {}\n",
        "patient_id_list = ['wc', 'cc', 'jp']\n",
        "\n",
        "for patient_id in patient_id_list:\n",
        "    patient_data = load_and_filter_data(patient_id, filters)\n",
        "    for key, value in patient_data.items():\n",
        "      # First 4 keys are bandpass filtered data, last key is 'stim' data\n",
        "      data[key][patient_id] = value\n",
        "\n",
        "# Print data structure\n",
        "print(f\"Top Level Keys: {data.keys()}\")\n",
        "print(f\"Second Level Keys: {data['theta'].keys()}\")\n",
        "print(f\"Example Patient Data Size: {data['theta']['cc'].shape}\")"
      ]
    },
    {
      "cell_type": "markdown",
      "metadata": {
        "id": "Ky6hAx2ktvP4"
      },
      "source": [
        "### **Collect Finger Movement Data and Create 3D Dataset**"
      ]
    },
    {
      "cell_type": "code",
      "execution_count": 3,
      "metadata": {
        "colab": {
          "base_uri": "https://localhost:8080/"
        },
        "id": "m2NNqoGNjzPX",
        "outputId": "6558c879-bbd7-45a6-ec9f-4b8d59d149f1"
      },
      "outputs": [
        {
          "output_type": "stream",
          "name": "stdout",
          "text": [
            "Rest Data Shape:(531, 8, 501)\n",
            "Thumb Data Shape:(501, 8, 501)\n",
            "Index Data Shape:(497, 8, 501)\n",
            "Middle Data Shape:(397, 8, 501)\n",
            "Ring Data Shape:(495, 8, 501)\n",
            "Pinky Data Shape:(463, 8, 501)\n"
          ]
        }
      ],
      "source": [
        "def index_positions(data):\n",
        "    \"\"\"\n",
        "    Generate index positions for extracting epochs with a half-second overlap\n",
        "\n",
        "    Parameters:\n",
        "    - data (array) : The input data array to be indexed\n",
        "\n",
        "    Returns :\n",
        "    - array : An array of starting index positions for epochs with a half-second overlap\n",
        "    \"\"\"\n",
        "    last_step = int(np.floor(len(data.T)/fs))\n",
        "    time_steps_array = np.arange(0,last_step,0.5)\n",
        "    indices = ((time_steps_array[time_steps_array < time_steps_array[-1]])*fs).astype(int)\n",
        "    return indices\n",
        "\n",
        "# Patient dataset filter bank\n",
        "fingers = np.arange(0, 6)\n",
        "theta_patient_data = [data['theta'][id] for id in patient_id_list]\n",
        "alpha_patient_data = [data['alpha'][id] for id in patient_id_list]\n",
        "beta_patient_data = [data['beta'][id] for id in patient_id_list]\n",
        "gamma_patient_data = [data['gamma'][id] for id in patient_id_list]\n",
        "stims = [data['stim'][id] for id in patient_id_list]\n",
        "\n",
        "def patient_finger_data(fingers,patients,stims,fs=fs):\n",
        "    \"\"\"\n",
        "    Collect and output a 3D dataset of each finger movement across all patients\n",
        "\n",
        "    Parameters:\n",
        "    - fingers (list of int): List of finger indices to process, including rest (e.g., 0-5)\n",
        "    - patients (list of arrays): List containing data arrays for each patient,\n",
        "      with each array shaped (electrodes, data points)\n",
        "    - stims (list of arrays): List containing stim variable for each patient's data,\n",
        "      stim contains finger movement indices at each data point\n",
        "    - fs (int): Sampling frequency\n",
        "\n",
        "    Returns:\n",
        "    - List of arrays: Contains 3D arrays, each corresponding to a finger movement's\n",
        "      data across patients. Each array is shaped (epochs, electrodes, data points)\n",
        "    \"\"\"\n",
        "\n",
        "    all_finger_data = [] # Stores processed data for each finger movement across all patients\n",
        "\n",
        "    for i in fingers:\n",
        "        finger_epochs = [] # Stores data for current finger movement data across all patients\n",
        "\n",
        "        for stim,patient in zip(stims,patients):\n",
        "            len_win = 1 # Window length in seconds\n",
        "            finger_data = patient[0:8, stim == i] # Extract data for the current finger\n",
        "            indices = index_positions(finger_data)\n",
        "\n",
        "            # Segment data into epochs of length 'len_win' (1 second) and store\n",
        "            epochs = np.array([finger_data[:, index:index + int(len_win*fs)] for index in indices])\n",
        "            finger_epochs.append(epochs)\n",
        "\n",
        "        # Combine epochs across all patients for the current finger\n",
        "        finger_data = np.concatenate(finger_epochs, axis=0)\n",
        "\n",
        "        # Min/max normalization (without shift)\n",
        "        finger_data /= (np.max(abs(finger_data)) - np.min(abs(finger_data)))\n",
        "\n",
        "        # Apply rFFT to each channel within each epoch and store power spectrum\n",
        "        finger_data = np.array([[np.abs(scipy.fft.rfft(ch))**2 for ch in epoch] for epoch in finger_data])\n",
        "\n",
        "        all_finger_data.append(finger_data)\n",
        "\n",
        "    return all_finger_data\n",
        "\n",
        "# Load dictionary with finger movement dataset filter bank\n",
        "Data = {}\n",
        "filtered_patient_data = [theta_patient_data, alpha_patient_data, beta_patient_data, gamma_patient_data]\n",
        "for i,band in enumerate(filters.keys()):\n",
        "    Data[band] = patient_finger_data(fingers,filtered_patient_data[i],stims)\n",
        "\n",
        "str = ['Rest Data Shape','Thumb Data Shape','Index Data Shape','Middle Data Shape','Ring Data Shape', 'Pinky Data Shape']\n",
        "for label,d_ in zip(str,Data['theta']):\n",
        "    print(f'{label}:{d_.shape}')"
      ]
    },
    {
      "cell_type": "markdown",
      "metadata": {
        "id": "5jTOhsKat9jl"
      },
      "source": [
        "### **Create Train and Test Sets**"
      ]
    },
    {
      "cell_type": "code",
      "execution_count": 4,
      "metadata": {
        "colab": {
          "base_uri": "https://localhost:8080/"
        },
        "id": "vlJBBoxsjzPX",
        "outputId": "91fb68cf-2970-4501-dd1f-8627561113b7"
      },
      "outputs": [
        {
          "output_type": "stream",
          "name": "stdout",
          "text": [
            "X shape:(2884, 8, 501, 4)\n",
            "Y shape:(2884, 1)\n",
            "x_train shape:(2307, 8, 501, 4) \n",
            "x_test shape:(577, 8, 501, 4) \n",
            "y_train shape:(2307, 1) \n",
            "y_test shape:(577, 1)\n"
          ]
        }
      ],
      "source": [
        "# Concatenate all finger movement data for each filtered set\n",
        "theta_finger_data = np.concatenate(Data['theta'], axis=0)\n",
        "alpha_finger_data = np.concatenate(Data['alpha'], axis=0)\n",
        "beta_finger_data = np.concatenate(Data['beta'], axis=0)\n",
        "gamma_finger_data = np.concatenate(Data['gamma'], axis=0)\n",
        "\n",
        "# Stack data along a new dimension, final shape is (epochs,electrodes,data points,channels)\n",
        "X = np.stack([theta_finger_data,alpha_finger_data,beta_finger_data,gamma_finger_data], axis=3)\n",
        "print(f'X shape:{X.shape}')\n",
        "\n",
        "# Create Y target variable with labels for either rest (0) or finger movement (1-5)\n",
        "Y = np.concatenate([np.full(Data['theta'][i].shape[0],i) for i in range(6)])[:,np.newaxis]\n",
        "print(f'Y shape:{Y.shape}')\n",
        "\n",
        "x_train,x_test,y_train,y_test = train_test_split(X,Y, test_size=0.2, random_state=1)\n",
        "\n",
        "print(f'x_train shape:{x_train.shape} \\nx_test shape:{x_test.shape} \\ny_train shape:{y_train.shape} \\ny_test shape:{y_test.shape}')"
      ]
    },
    {
      "cell_type": "markdown",
      "metadata": {
        "id": "pfXbwrP6vZix"
      },
      "source": [
        "### **Build ResConv - BiLSTM Model**"
      ]
    },
    {
      "cell_type": "code",
      "execution_count": 5,
      "metadata": {
        "id": "FxTd7c_9-y3C"
      },
      "outputs": [],
      "source": [
        "def residual_block(input, conv_filters, kernel_size, depth_multiplier):\n",
        "    \"\"\"\n",
        "    Create a residual block with Conv2D, DepthwiseConv2D, and a skip connection\n",
        "\n",
        "    Parameters:\n",
        "    - input (array): Input array for the residual block\n",
        "    - conv_filters (int): Number of filters for the Conv2D layer\n",
        "    - kernel_size (tuple): Kernel size for the Conv2D layer (e.g., (1, 125))\n",
        "    - depth_multiplier (int): Depth multiplier for the DepthwiseConv2D layer\n",
        "\n",
        "    Returns:\n",
        "    - tensor: Output tensor after the residual block\n",
        "    \"\"\"\n",
        "    # Save input for residual connection\n",
        "    residual = input\n",
        "\n",
        "    # First Conv2D layer\n",
        "    conv_output = Conv2D(conv_filters, kernel_size, activation='relu', padding='same')(input)\n",
        "    conv_output = BatchNormalization()(conv_output)\n",
        "\n",
        "    # DepthwiseConv2D layer\n",
        "    depthwise_output = DepthwiseConv2D((8,1),\n",
        "                        depth_multiplier=depth_multiplier,\n",
        "                        activation='relu',\n",
        "                        padding='same')(conv_output)\n",
        "    depthwise_output = BatchNormalization()(depthwise_output)\n",
        "\n",
        "\n",
        "    # If the residual has fewer filters/feature maps, apply a 1x1 convolution to match the number of filters\n",
        "    if residual.shape[-1] != depthwise_output.shape[-1]:\n",
        "        residual = Conv2D(depthwise_output.shape[-1],(1,1),activation='relu', padding='same')(residual)\n",
        "\n",
        "    # Add the residual back to the output\n",
        "    output = Add()([depthwise_output, residual])\n",
        "\n",
        "    return output\n",
        "\n",
        "def ResConv_BiLSTM(x_train=x_train):\n",
        "    \"\"\"\n",
        "    Build a Residual Convolutional Network with Bidirectional LSTM model\n",
        "\n",
        "    Parameters:\n",
        "    - x_train (array): Training dataset with shape\n",
        "                       (electrodes, data points, channels)\n",
        "\n",
        "    Returns:\n",
        "    - Model: Compiled Keras model\n",
        "    \"\"\"\n",
        "    input_layer = Input(shape=(x_train.shape[1:]))\n",
        "\n",
        "    # Initial Conv2D layer\n",
        "    conv_initial = Conv2D(8, (1,125), activation='relu', padding='same')(input_layer)\n",
        "    conv_initial = BatchNormalization()(conv_initial)\n",
        "\n",
        "    # First residual block\n",
        "    residual_output_1 = residual_block(conv_initial, 16, kernel_size=(1,125), depth_multiplier=1)\n",
        "    pooled_output_1 = AveragePooling2D((1,4))(residual_output_1)\n",
        "    dropout_1 = Dropout(0.2)(pooled_output_1)\n",
        "\n",
        "    # Second Conv2D layer\n",
        "    conv_second = Conv2D(32,(1,62), activation='relu', padding='same')(dropout_1)\n",
        "    conv_second = BatchNormalization()(conv_second)\n",
        "\n",
        "    # Second residual block\n",
        "    residual_output_2 = residual_block(conv_second, 64, kernel_size=(1,62), depth_multiplier=2)\n",
        "    pooled_output_2 = AveragePooling2D((1,4))(residual_output_2)\n",
        "    dropout_2 = Dropout(0.2)(pooled_output_2)\n",
        "\n",
        "    # Reshape and pass through BiLSTM layer\n",
        "    reshaped_output = Reshape((x_train.shape[1], -1))(dropout_2)\n",
        "    lstm_output = Bidirectional(LSTM(128))(reshaped_output)\n",
        "    dropout_3 = Dropout(0.3)(lstm_output)\n",
        "\n",
        "    # Output layer\n",
        "    output_layer = Dense(6)(dropout_3)\n",
        "\n",
        "    return Model(input_layer, output_layer)"
      ]
    },
    {
      "cell_type": "markdown",
      "metadata": {
        "id": "dPtCPC4KvxUe"
      },
      "source": [
        "### **Build Shallow CNN Model**"
      ]
    },
    {
      "cell_type": "code",
      "execution_count": 6,
      "metadata": {
        "collapsed": true,
        "id": "NlA8RKY1Nz7P"
      },
      "outputs": [],
      "source": [
        "def shallow_CNN(x_train=x_train):\n",
        "    \"\"\"\n",
        "    Build a shallow CNN model for comparison\n",
        "\n",
        "    Parameters:\n",
        "    - x_train (array): Training dataset with shape\n",
        "                       (electrodes, data points, channels)\n",
        "\n",
        "    Returns:\n",
        "    - Model: Keras Sequential model object\n",
        "    \"\"\"\n",
        "\n",
        "    model2 = Sequential([\n",
        "        Input(shape=(x_train.shape[1:])),\n",
        "\n",
        "        # First Conv2D layer\n",
        "        Conv2D(8, (1,250), activation='relu',padding='same'),\n",
        "        BatchNormalization(),\n",
        "\n",
        "        # Second Conv2D layer\n",
        "        Conv2D(16, (1,125), activation='relu',padding='same'),\n",
        "        BatchNormalization(),\n",
        "        AveragePooling2D((1,2)),\n",
        "\n",
        "        # Flatten and output layer\n",
        "        Flatten(),\n",
        "        Dense(6)\n",
        "    ])\n",
        "\n",
        "    return model2"
      ]
    },
    {
      "cell_type": "markdown",
      "metadata": {
        "id": "Mn3_aYKSv37_"
      },
      "source": [
        "### **Build Simple LSTM Model**"
      ]
    },
    {
      "cell_type": "code",
      "execution_count": 7,
      "metadata": {
        "id": "pBKZTMS3zQrr"
      },
      "outputs": [],
      "source": [
        "def simple_LSTM(x_train=x_train):\n",
        "    \"\"\"\n",
        "    Build a simple LSTM model for comparison\n",
        "\n",
        "    Parameters:\n",
        "    - x_train (array): Training dataset with shape\n",
        "                       (electrodes, data points, channels)\n",
        "\n",
        "    Returns:\n",
        "    - Model: Keras Sequential model object\n",
        "    \"\"\"\n",
        "\n",
        "    model3 = Sequential([\n",
        "      Input(shape=(x_train.shape[1:])),\n",
        "      Reshape((x_train.shape[1],-1)),\n",
        "\n",
        "      # LSTM layers\n",
        "      LSTM(64, return_sequences=True),\n",
        "      BatchNormalization(),\n",
        "\n",
        "      LSTM(128, return_sequences=True),\n",
        "      BatchNormalization(),\n",
        "\n",
        "      LSTM(256),\n",
        "      BatchNormalization(),\n",
        "      Dropout(0.2),\n",
        "\n",
        "      # Output layer\n",
        "      Dense(6)\n",
        "  ])\n",
        "\n",
        "    return model3"
      ]
    },
    {
      "cell_type": "markdown",
      "metadata": {
        "id": "tnMmjO-Iv8Ro"
      },
      "source": [
        "### **Build SVM Model**"
      ]
    },
    {
      "cell_type": "code",
      "execution_count": 8,
      "metadata": {
        "id": "4tpHcl75PKTl"
      },
      "outputs": [],
      "source": [
        "def SVM():\n",
        "    \"\"\"\n",
        "    Build a Support Vector Machine (SVM) model for comparison\n",
        "\n",
        "    Returns:\n",
        "    - SVC: Scikit-learn's SVC model object with RBF kernel\n",
        "    \"\"\"\n",
        "    return SVC(kernel='rbf')\n",
        "\n",
        "# Flatten last 3 dimensions (electrodes * data points * channels) of dataset into a single feature vector\n",
        "x_train_svm = x_train.reshape((x_train.shape[0],-1))\n",
        "x_test_svm = x_test.reshape((x_test.shape[0],-1))\n",
        "y_train_svm,y_test_svm = y_train.squeeze(),y_test.squeeze()\n"
      ]
    },
    {
      "cell_type": "markdown",
      "metadata": {
        "id": "_a2XlOGFwFKC"
      },
      "source": [
        "### **Test Each Model**"
      ]
    },
    {
      "cell_type": "code",
      "execution_count": 32,
      "metadata": {
        "colab": {
          "base_uri": "https://localhost:8080/"
        },
        "id": "d6o5fBhR0mu9",
        "outputId": "f415502f-b536-4539-b26d-3936691eb0a1"
      },
      "outputs": [
        {
          "output_type": "stream",
          "name": "stdout",
          "text": [
            "\u001b[1m19/19\u001b[0m \u001b[32m━━━━━━━━━━━━━━━━━━━━\u001b[0m\u001b[37m\u001b[0m \u001b[1m1s\u001b[0m 28ms/step\n",
            "\u001b[1m19/19\u001b[0m \u001b[32m━━━━━━━━━━━━━━━━━━━━\u001b[0m\u001b[37m\u001b[0m \u001b[1m2s\u001b[0m 78ms/step\n",
            "\u001b[1m19/19\u001b[0m \u001b[32m━━━━━━━━━━━━━━━━━━━━\u001b[0m\u001b[37m\u001b[0m \u001b[1m1s\u001b[0m 16ms/step\n"
          ]
        }
      ],
      "source": [
        "# Load dictionary with models\n",
        "models = {'ResConv - BiLSTM': ResConv_BiLSTM(),\n",
        "          'CNN': shallow_CNN(),\n",
        "          'LSTM': simple_LSTM(),\n",
        "          'SVM': SVM()\n",
        "          }\n",
        "\n",
        "# Create another dictionary to store performance metrics for each model\n",
        "metrics=['Accuracy','Precision','Recall','F1']\n",
        "results = {metric:[] for metric in metrics}\n",
        "\n",
        "# Function that executes each metric\n",
        "def metric_functions(y_test,y_predict):\n",
        "  functions = {\n",
        "      'Accuracy' : accuracy_score(y_test, y_predict)*100,\n",
        "      'Precision' : precision_score(y_test, y_predict, average='weighted', zero_division=0)*100,\n",
        "      'Recall' : recall_score(y_test, y_predict, average='weighted')*100,\n",
        "      'F1' : f1_score(y_test, y_predict, average='weighted')*100\n",
        "  }\n",
        "  return functions\n",
        "\n",
        "# Loop through each model type\n",
        "for model_type, (model) in models.items():\n",
        "  if model_type != 'SVM':\n",
        "    tf.random.set_seed(1234)\n",
        "\n",
        "    model.compile(\n",
        "        optimizer = Adam(0.001),\n",
        "        loss = SparseCategoricalCrossentropy(from_logits=True),\n",
        "        metrics = ['accuracy']\n",
        "    )\n",
        "\n",
        "    model.fit(\n",
        "        x_train,y_train,\n",
        "        epochs = 80,\n",
        "        verbose = 0\n",
        "    )\n",
        "    y_predict_nn = np.argmax(tf.nn.softmax(model.predict(x_test)),axis=1)\n",
        "\n",
        "    for metric,metric_func in metric_functions(y_test,y_predict_nn).items():\n",
        "      results[metric] += [metric_func]\n",
        "\n",
        "  else:\n",
        "    model.fit(x_train_svm,y_train_svm)\n",
        "    y_predict = model.predict(x_test_svm)\n",
        "\n",
        "    for metric,metric_func in metric_functions(y_test,y_predict).items():\n",
        "      results[metric] += [metric_func]"
      ]
    },
    {
      "cell_type": "markdown",
      "metadata": {
        "id": "szHPQY6vwPnM"
      },
      "source": [
        "### **Plot and Compare All Models**"
      ]
    },
    {
      "cell_type": "code",
      "execution_count": 33,
      "metadata": {
        "colab": {
          "base_uri": "https://localhost:8080/",
          "height": 517
        },
        "id": "tJXhhWQjwW_l",
        "outputId": "a8d004f8-53b1-4cf3-ef23-b465c1a7ba1c"
      },
      "outputs": [
        {
          "output_type": "stream",
          "name": "stdout",
          "text": [
            "                  Accuracy  Precision  Recall     F1\n",
            "ResConv - BiLSTM     90.81      91.06   90.81  90.82\n",
            "CNN                  77.30      78.16   77.30  76.80\n",
            "LSTM                 66.03      66.70   66.03  66.03\n",
            "SVM                  64.82      65.62   64.82  64.44 \n",
            "\n"
          ]
        },
        {
          "output_type": "display_data",
          "data": {
            "text/plain": [
              "<Figure size 600x400 with 1 Axes>"
            ],
            "image/png": "[encoded data removed]"
          },
          "metadata": {}
        }
      ],
      "source": [
        "# Convert data into a pandas DataFrame\n",
        "metric_df = pd.DataFrame(data=results, index=list(models.keys()))\n",
        "print(f'{metric_df.round(2)} \\n')\n",
        "\n",
        "# Create a bar plot\n",
        "fig, ax = plt.subplots(figsize=(6,4))\n",
        "\n",
        "model_names = list(models.keys())\n",
        "bar_width = 0.2\n",
        "index = np.arange(len(model_names))\n",
        "colors = ['blue','mediumslateblue','darkviolet','maroon']\n",
        "\n",
        "# Loop over each metric and plot\n",
        "for i, metric in enumerate(metrics):\n",
        "    ax.bar(index + i*bar_width, metric_df.iloc[:,i], bar_width, color=colors[i], label=metric)\n",
        "\n",
        "\n",
        "ax.set(xlabel = 'Model Type', ylabel = 'Metric %')\n",
        "ax.set(ylim=[50,100], yticks=np.arange(50,101,10))\n",
        "\n",
        "ax.minorticks_on()\n",
        "ax.tick_params(axis='x',bottom=False)\n",
        "ax.tick_params(axis='y',which='minor',length=4,color='black')\n",
        "ax.set_xticks(index + 0.3, model_names)\n",
        "\n",
        "sns.despine(fig,top=True,right=True)\n",
        "fig.legend(loc = 'upper right', shadow=True, bbox_to_anchor=(1.0,0.9))\n",
        "fig.suptitle('Performance Metrics of Classification Models', fontweight='bold')\n",
        "\n",
        "plt.tight_layout()\n",
        "plt.show()"
      ]
    },
    {
      "cell_type": "markdown",
      "source": [
        "### **Save the Model**"
      ],
      "metadata": {
        "id": "s9TDL-9nGuQZ"
      }
    },
    {
      "cell_type": "code",
      "source": [
        "models[\"ResConv - BiLSTM\"].save('finger_movement_classification_model.keras')"
      ],
      "metadata": {
        "id": "DX0H6hyYGywr"
      },
      "execution_count": 64,
      "outputs": []
    }
  ],
  "metadata": {
    "accelerator": "GPU",
    "colab": {
      "gpuType": "T4",
      "machine_shape": "hm",
      "provenance": []
    },
    "kernelspec": {
      "display_name": "Python 3",
      "name": "python3"
    },
    "language_info": {
      "codemirror_mode": {
        "name": "ipython",
        "version": 3
      },
      "file_extension": ".py",
      "mimetype": "text/x-python",
      "name": "python",
      "nbconvert_exporter": "python",
      "pygments_lexer": "ipython3",
      "version": "3.12.2"
    }
  },
  "nbformat": 4,
  "nbformat_minor": 0
}